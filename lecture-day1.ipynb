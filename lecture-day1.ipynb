{
 "cells": [
  {
   "cell_type": "markdown",
   "metadata": {},
   "source": [
    "# 第1回資料\n",
    "\n",
    "## ポイント\n",
    "\n",
    "### 基本統計量\n",
    "- 代表値\n",
    "    - 平均値\n",
    "    - 中央値\n",
    "    - 最頻値\n",
    "- 散布度\n",
    "    - 標準偏差\n",
    "\n",
    "## Pythonの知識\n",
    "- PythonはPython2.x系とPython3.x系の2種類あり、互換性はあまり高くない。\n",
    "- 今から始めるなら3.x系を入れるのがおすすめ。\n",
    "- データ分析は、さらに各種パッケージが必要となる。anaconda3を入れることで基本的なツールはそろう。\n",
    "- 講義のハンズオンはJupyter Notebookを使って行う。\n",
    "\n",
    "## データ分析によく使うライブラリ\n",
    "- 分析系\n",
    "    - pandas\n",
    "    - numpy\n",
    "    - scipy\n",
    "    - scikit-learn\n",
    "- 可視化\n",
    "    - matplotlib\n",
    "    - seaborn"
   ]
  },
  {
   "cell_type": "markdown",
   "metadata": {},
   "source": [
    "## ハンズオン"
   ]
  },
  {
   "cell_type": "code",
   "execution_count": 1,
   "metadata": {},
   "outputs": [],
   "source": [
    "import pandas as pd       # pandasを「pd」という名前に変更してインポート\n",
    "import numpy as np        # numpyを「np」という名前に変更してインポート\n",
    "import scipy as sp        # scipyを「sp」という生へに変更してインポート"
   ]
  },
  {
   "cell_type": "code",
   "execution_count": 2,
   "metadata": {},
   "outputs": [
    {
     "data": {
      "text/plain": [
       "array([1., 2., 3., 4., 5., 5.])"
      ]
     },
     "execution_count": 2,
     "metadata": {},
     "output_type": "execute_result"
    }
   ],
   "source": [
    "a = np.array([1.0, 2.0, 3.0, 4.0, 5.0, 5.0])     # numpy.array（配列）としてデータを読み込み\n",
    "a                                                 # aの内容を表示"
   ]
  },
  {
   "cell_type": "markdown",
   "metadata": {},
   "source": [
    "### 平均値\n",
    "- 平均値は3種類の表示方法がある。"
   ]
  },
  {
   "cell_type": "code",
   "execution_count": 3,
   "metadata": {},
   "outputs": [
    {
     "name": "stdout",
     "output_type": "stream",
     "text": [
      "3.3333333333333335\n",
      "3.3333333333333335\n",
      "3.3333333333333335\n"
     ]
    }
   ],
   "source": [
    "print(a.mean())\n",
    "print(np.mean(a))\n",
    "print(sp.mean(a))"
   ]
  },
  {
   "cell_type": "markdown",
   "metadata": {},
   "source": [
    "### 中央値\n",
    "- 中央値は2種類の表示方法がある。"
   ]
  },
  {
   "cell_type": "code",
   "execution_count": 4,
   "metadata": {},
   "outputs": [
    {
     "name": "stdout",
     "output_type": "stream",
     "text": [
      "3.5\n",
      "3.5\n"
     ]
    }
   ],
   "source": [
    "print(np.median(a))\n",
    "print(sp.median(a))"
   ]
  },
  {
   "cell_type": "markdown",
   "metadata": {},
   "source": [
    "### 最頻値\n",
    "- 最頻値はあまりメジャーな代表値ではないため、一般的に決まった算出方法はない。\n",
    "- ヒストグラムのところで詳細の取り扱いをする。"
   ]
  },
  {
   "cell_type": "markdown",
   "metadata": {},
   "source": [
    "### 標準偏差\n",
    "- 標準偏差は平均値同様3種類の表示方法がある。"
   ]
  },
  {
   "cell_type": "code",
   "execution_count": 6,
   "metadata": {},
   "outputs": [
    {
     "name": "stdout",
     "output_type": "stream",
     "text": [
      "1.4907119849998598\n",
      "1.4907119849998598\n",
      "1.4907119849998598\n"
     ]
    }
   ],
   "source": [
    "print(a.std())\n",
    "print(np.std(a))\n",
    "print(sp.std(a))"
   ]
  },
  {
   "cell_type": "markdown",
   "metadata": {},
   "source": [
    "### 分散\n",
    "- 分散も同様に3種類の表示方法がある。"
   ]
  },
  {
   "cell_type": "code",
   "execution_count": 7,
   "metadata": {},
   "outputs": [
    {
     "name": "stdout",
     "output_type": "stream",
     "text": [
      "2.2222222222222223\n",
      "2.2222222222222223\n",
      "2.2222222222222223\n"
     ]
    }
   ],
   "source": [
    "print(a.var())\n",
    "print(np.var(a))\n",
    "print(sp.var(a))"
   ]
  },
  {
   "cell_type": "markdown",
   "metadata": {},
   "source": [
    "### その他基本統計量\n",
    "- その他の基本統計量としては、以下のものが重要。\n",
    "    - 歪度: 分布の左右へのゆがみ具合\n",
    "    - 尖度: 分布の上下への尖り具合\n",
    "    - 最大値\n",
    "    - 最小値\n",
    "    - パーセンタイル"
   ]
  },
  {
   "cell_type": "code",
   "execution_count": 11,
   "metadata": {},
   "outputs": [
    {
     "name": "stdout",
     "output_type": "stream",
     "text": [
      "-0.2795084971874741\n",
      "-1.3650000000000002\n"
     ]
    }
   ],
   "source": [
    "from scipy import stats as st\n",
    "print(st.skew(a))           # 歪度\n",
    "print(st.kurtosis(a))       # 尖度"
   ]
  },
  {
   "cell_type": "code",
   "execution_count": 12,
   "metadata": {},
   "outputs": [
    {
     "name": "stdout",
     "output_type": "stream",
     "text": [
      "5.0\n",
      "5.0\n",
      "1.0\n",
      "1.0\n"
     ]
    }
   ],
   "source": [
    "print(a.max())             # 最大値\n",
    "print(np.max(a))           # 最大値\n",
    "print(a.min())             # 最小値\n",
    "print(np.min(a))           # 最小値"
   ]
  },
  {
   "cell_type": "code",
   "execution_count": 13,
   "metadata": {},
   "outputs": [
    {
     "name": "stdout",
     "output_type": "stream",
     "text": [
      "2.0\n"
     ]
    }
   ],
   "source": [
    "print(np.percentile(a, 20))  # 20パーセンタイル点"
   ]
  },
  {
   "cell_type": "code",
   "execution_count": null,
   "metadata": {},
   "outputs": [],
   "source": []
  }
 ],
 "metadata": {
  "kernelspec": {
   "display_name": "Python 3",
   "language": "python",
   "name": "python3"
  },
  "language_info": {
   "codemirror_mode": {
    "name": "ipython",
    "version": 3
   },
   "file_extension": ".py",
   "mimetype": "text/x-python",
   "name": "python",
   "nbconvert_exporter": "python",
   "pygments_lexer": "ipython3",
   "version": "3.7.0"
  }
 },
 "nbformat": 4,
 "nbformat_minor": 2
}
