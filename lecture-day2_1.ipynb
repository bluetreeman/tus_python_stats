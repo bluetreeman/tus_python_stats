{
 "cells": [
  {
   "cell_type": "markdown",
   "metadata": {},
   "source": [
    "# 第2回資料"
   ]
  },
  {
   "cell_type": "code",
   "execution_count": 1,
   "metadata": {},
   "outputs": [],
   "source": [
    "import pandas as pd\n",
    "import numpy as np\n",
    "import scipy as sp"
   ]
  },
  {
   "cell_type": "markdown",
   "metadata": {},
   "source": [
    "## 様々な分布のデータ\n",
    "- 様々なデータでヒストグラムを作成し、データの「形」を見る。\n",
    "- ある分布に従うランダムなデータを作成するためには、numpy.randomモジュールに含まれる関数を使う。"
   ]
  },
  {
   "cell_type": "code",
   "execution_count": 2,
   "metadata": {},
   "outputs": [],
   "source": [
    "from numpy import random as rd"
   ]
  },
  {
   "cell_type": "code",
   "execution_count": 3,
   "metadata": {},
   "outputs": [],
   "source": [
    "d01 = rd.normal(0.0, 1.0, 10000)        # 平均値:0.0 標準偏差:1.0 の正規分布（標準正規分布）に従う乱数を10,000個作成する。\n",
    "d02 = rd.normal(0.0, 5.0, 10000)        # 平均値:0.0 標準偏差:5.0 の正規分布に従う乱数を10,000個作成する。\n",
    "d03 = rd.normal(5.0, 1.0, 10000)        # 平均値:5.0 標準偏差:1.0 の正規分布に従う乱数を10,000個作成する。\n",
    "d04 = rd.rand(10000)                    # 範囲[0, 1.0)の一様分布乱数を10,000個作成する。\n",
    "d05 = 5.0 * rd.rand(10000) + 3.0       # 範囲[3.0, 8.0)の一様分布乱数を10,000個作成する。\n",
    "d06 = rd.lognormal(0.05, 0.30, 10000)   # 平均値:0.05 標準偏差:0.30 の対数正規分布に従う乱数を10,000個作成する。\n",
    "d07 = -rd.lognormal(0.05, 0.30, 10000)  # 平均値: -0.05 標準偏差:0.30 の対数正規分布に従う乱数を10,000個作成する。\n",
    "d08 = np.hstack((rd.normal(-10.0, 3.0, 5000),rd.normal(7.0, 5.0, 5000)))  \n",
    "# 平均値: -10.0 標準偏差: 3.0の正規分布に従う乱数5,000個と平均値: 7.0 標準偏差:5.0 の正規分布に従う乱数5,000個を合成したもの。\n",
    "d09 = np.random.standard_cauchy(10000)  # コーシー分布に従う乱数を10,000個作成する。\n",
    "d09 = d09[(d09>-25) & (d09<25)]        # コーシー分布は範囲が広いため、(-25, 25)の範囲のデータのみ抽出する。"
   ]
  },
  {
   "cell_type": "code",
   "execution_count": 6,
   "metadata": {},
   "outputs": [
    {
     "data": {
      "text/plain": [
       "(10000,)"
      ]
     },
     "execution_count": 6,
     "metadata": {},
     "output_type": "execute_result"
    }
   ],
   "source": [
    "# データの数（行数・列数）を調べる。\n",
    "d01.shape"
   ]
  },
  {
   "cell_type": "code",
   "execution_count": 17,
   "metadata": {},
   "outputs": [
    {
     "data": {
      "text/html": [
       "<div>\n",
       "<style scoped>\n",
       "    .dataframe tbody tr th:only-of-type {\n",
       "        vertical-align: middle;\n",
       "    }\n",
       "\n",
       "    .dataframe tbody tr th {\n",
       "        vertical-align: top;\n",
       "    }\n",
       "\n",
       "    .dataframe thead th {\n",
       "        text-align: right;\n",
       "    }\n",
       "</style>\n",
       "<table border=\"1\" class=\"dataframe\">\n",
       "  <thead>\n",
       "    <tr style=\"text-align: right;\">\n",
       "      <th></th>\n",
       "      <th>d01</th>\n",
       "    </tr>\n",
       "  </thead>\n",
       "  <tbody>\n",
       "    <tr>\n",
       "      <th>count</th>\n",
       "      <td>10000.000000</td>\n",
       "    </tr>\n",
       "    <tr>\n",
       "      <th>mean</th>\n",
       "      <td>0.014822</td>\n",
       "    </tr>\n",
       "    <tr>\n",
       "      <th>std</th>\n",
       "      <td>0.994934</td>\n",
       "    </tr>\n",
       "    <tr>\n",
       "      <th>min</th>\n",
       "      <td>-3.942372</td>\n",
       "    </tr>\n",
       "    <tr>\n",
       "      <th>25%</th>\n",
       "      <td>-0.653528</td>\n",
       "    </tr>\n",
       "    <tr>\n",
       "      <th>50%</th>\n",
       "      <td>0.009425</td>\n",
       "    </tr>\n",
       "    <tr>\n",
       "      <th>75%</th>\n",
       "      <td>0.682849</td>\n",
       "    </tr>\n",
       "    <tr>\n",
       "      <th>max</th>\n",
       "      <td>3.648202</td>\n",
       "    </tr>\n",
       "  </tbody>\n",
       "</table>\n",
       "</div>"
      ],
      "text/plain": [
       "                d01\n",
       "count  10000.000000\n",
       "mean       0.014822\n",
       "std        0.994934\n",
       "min       -3.942372\n",
       "25%       -0.653528\n",
       "50%        0.009425\n",
       "75%        0.682849\n",
       "max        3.648202"
      ]
     },
     "execution_count": 17,
     "metadata": {},
     "output_type": "execute_result"
    }
   ],
   "source": [
    "# pandasのデータフレームに入れて要約する。\n",
    "# pd.DataFrame(d01, columns=['d01']).describe() のように1行に書いても同じ結果が得られる。\n",
    "df = pd.DataFrame(d01, columns=['d01'])\n",
    "df.describe()"
   ]
  },
  {
   "cell_type": "markdown",
   "metadata": {},
   "source": [
    "## ヒストグラム\n",
    "- グラフを書くにはmatplotlibかseabornを使う。\n",
    "- とりあえずきれいなグラフを書くにはseabornが便利。\n",
    "- 細かい部分まで作り込む場合はmatplotlibを使う。\n",
    "- Jupyter Notebookでグラフを表示するには、「%matplotlib inline」を書く必要がある。"
   ]
  },
  {
   "cell_type": "code",
   "execution_count": 18,
   "metadata": {},
   "outputs": [],
   "source": [
    "%matplotlib inline\n",
    "import seaborn as sns\n",
    "import matplotlib.pyplot as plt\n",
    "sns.set(style='darkgrid')            # グリッドを表示する設定"
   ]
  },
  {
   "cell_type": "markdown",
   "metadata": {},
   "source": [
    "### 警告の非表示\n",
    "- 将来のバージョンアップに向けて警告が出る場合がある。\n",
    "- 警告がでるものの、今回の実行には直接影響はない。\n",
    "- 以下の命令を入れることで非表示にできる。"
   ]
  },
  {
   "cell_type": "code",
   "execution_count": 41,
   "metadata": {},
   "outputs": [],
   "source": [
    "import warnings\n",
    "warnings.filterwarnings('ignore')"
   ]
  },
  {
   "cell_type": "markdown",
   "metadata": {},
   "source": [
    "### sns.distplot\n",
    "- 標準の設定では、確率密度関数が描かれる。\n",
    "- 縦軸は割合表示となる。\n",
    "- kdeとnorm_histの設定を変えることで調整可能。"
   ]
  },
  {
   "cell_type": "code",
   "execution_count": 42,
   "metadata": {},
   "outputs": [
    {
     "data": {
      "image/png": "[encoded data removed]",
      "text/plain": [
       "<Figure size 432x288 with 1 Axes>"
      ]
     },
     "metadata": {},
     "output_type": "display_data"
    }
   ],
   "source": [
    "sns.distplot(d01)\n",
    "plt.show()"
   ]
  },
  {
   "cell_type": "code",
   "execution_count": 43,
   "metadata": {},
   "outputs": [
    {
     "data": {
      "image/png": "[encoded data removed]",
      "text/plain": [
       "<Figure size 432x288 with 1 Axes>"
      ]
     },
     "metadata": {},
     "output_type": "display_data"
    }
   ],
   "source": [
    "sns.distplot(d01, kde=False, norm_hist=False)\n",
    "plt.show()"
   ]
  },
  {
   "cell_type": "markdown",
   "metadata": {},
   "source": [
    "### 2種類以上のデータを同時に表示\n",
    "- 2つの命令を書けば2種類のグラフが描かれる。\n",
    "- 見やすさなどは色の設定などが必要となる。"
   ]
  },
  {
   "cell_type": "code",
   "execution_count": 44,
   "metadata": {},
   "outputs": [
    {
     "data": {
      "image/png": "[encoded data removed]",
      "text/plain": [
       "<Figure size 432x288 with 1 Axes>"
      ]
     },
     "metadata": {},
     "output_type": "display_data"
    }
   ],
   "source": [
    "sns.distplot(d01, kde=False, norm_hist=False)\n",
    "sns.distplot(d02, kde=False, norm_hist=False)\n",
    "plt.show()"
   ]
  },
  {
   "cell_type": "markdown",
   "metadata": {},
   "source": [
    "## 箱ひげ図\n",
    "### sns.boxplot"
   ]
  },
  {
   "cell_type": "code",
   "execution_count": 40,
   "metadata": {},
   "outputs": [
    {
     "data": {
      "image/png": "[encoded data removed]",
      "text/plain": [
       "<Figure size 432x288 with 1 Axes>"
      ]
     },
     "metadata": {},
     "output_type": "display_data"
    }
   ],
   "source": [
    "sns.boxplot(d01)\n",
    "plt.show()"
   ]
  },
  {
   "cell_type": "code",
   "execution_count": null,
   "metadata": {},
   "outputs": [],
   "source": []
  }
 ],
 "metadata": {
  "kernelspec": {
   "display_name": "Python 3",
   "language": "python",
   "name": "python3"
  },
  "language_info": {
   "codemirror_mode": {
    "name": "ipython",
    "version": 3
   },
   "file_extension": ".py",
   "mimetype": "text/x-python",
   "name": "python",
   "nbconvert_exporter": "python",
   "pygments_lexer": "ipython3",
   "version": "3.7.0"
  }
 },
 "nbformat": 4,
 "nbformat_minor": 2
}
