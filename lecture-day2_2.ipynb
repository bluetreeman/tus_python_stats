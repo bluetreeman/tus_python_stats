{
 "cells": [
  {
   "cell_type": "markdown",
   "metadata": {},
   "source": [
    "# 第2回資料/応用編"
   ]
  },
  {
   "cell_type": "code",
   "execution_count": 3,
   "metadata": {},
   "outputs": [],
   "source": [
    "import pandas as pd\n",
    "import numpy as np\n",
    "import scipy as sp\n",
    "from numpy import random as rd\n",
    "import matplotlib.pyplot as plt\n",
    "import scipy.stats as st"
   ]
  },
  {
   "cell_type": "code",
   "execution_count": 4,
   "metadata": {},
   "outputs": [],
   "source": [
    "d01 = rd.normal(0.0, 1.0, 10000)        # 平均値:0.0 標準偏差:1.0 の正規分布（標準正規分布）に従う乱数を10,000個作成する。\n",
    "d02 = rd.normal(0.0, 5.0, 10000)        # 平均値:0.0 標準偏差:5.0 の正規分布に従う乱数を10,000個作成する。\n",
    "d03 = rd.normal(5.0, 1.0, 10000)        # 平均値:5.0 標準偏差:1.0 の正規分布に従う乱数を10,000個作成する。\n",
    "d04 = rd.rand(10000)                    # 範囲[0, 1.0)の一様分布乱数を10,000個作成する。\n",
    "d05 = 5.0 * rd.rand(10000) + 3.0       # 範囲[3.0, 8.0)の一様分布乱数を10,000個作成する。\n",
    "d06 = rd.lognormal(0.05, 0.30, 10000)   # 平均値:0.05 標準偏差:0.30 の対数正規分布に従う乱数を10,000個作成する。\n",
    "d07 = -rd.lognormal(0.05, 0.30, 10000)  # 平均値: -0.05 標準偏差:0.30 の対数正規分布に従う乱数を10,000個作成する。\n",
    "d08 = np.hstack((rd.normal(-10.0, 3.0, 5000),rd.normal(7.0, 5.0, 5000)))  \n",
    "# 平均値: -10.0 標準偏差: 3.0の正規分布に従う乱数5,000個と平均値: 7.0 標準偏差:5.0 の正規分布に従う乱数5,000個を合成したもの。\n",
    "d09 = np.random.standard_cauchy(10000)  # コーシー分布に従う乱数を10,000個作成する。\n",
    "d09 = d09[(d09>-25) & (d09<25)]        # コーシー分布は範囲が広いため、(-25, 25)の範囲のデータのみ抽出する。"
   ]
  },
  {
   "cell_type": "markdown",
   "metadata": {},
   "source": [
    "## 要約統計量を出力する関数\n",
    "- 入力\n",
    "    - ary: データ配列\n",
    "    - str: カラムの名前\n",
    "- 出力\n",
    "    - pandas.DataFrame: 要約統計量のデータフレーム"
   ]
  },
  {
   "cell_type": "code",
   "execution_count": 5,
   "metadata": {},
   "outputs": [],
   "source": [
    "def stats_describe(ary, str):\n",
    "    \n",
    "    return pd.DataFrame(\n",
    "        [np.mean(ary),np.median(ary), np.std(ary), st.skew(ary), st.kurtosis(ary)],\n",
    "        index=[\"mean\", \"median\", \"std\", \"skew\", \"kurtosis\"], \n",
    "        columns=[str])"
   ]
  },
  {
   "cell_type": "markdown",
   "metadata": {},
   "source": [
    "## 要約統計量をつなげて出力"
   ]
  },
  {
   "cell_type": "code",
   "execution_count": 9,
   "metadata": {},
   "outputs": [],
   "source": [
    "result = pd.concat([\n",
    "    stats_describe(d01, \"データ1\"),\n",
    "    stats_describe(d02, \"データ2\"),\n",
    "    stats_describe(d03, \"データ3\"),\n",
    "    stats_describe(d04, \"データ4\"),\n",
    "    stats_describe(d05, \"データ5\"),\n",
    "    stats_describe(d06, \"データ6\"),\n",
    "    stats_describe(d07, \"データ7\"),\n",
    "    stats_describe(d08, \"データ8\"),\n",
    "    stats_describe(d09, \"データ9\")\n",
    "], axis=1)"
   ]
  },
  {
   "cell_type": "markdown",
   "metadata": {},
   "source": [
    "### Jupyter Notebook上で出力"
   ]
  },
  {
   "cell_type": "code",
   "execution_count": 10,
   "metadata": {},
   "outputs": [
    {
     "data": {
      "text/html": [
       "<div>\n",
       "<style scoped>\n",
       "    .dataframe tbody tr th:only-of-type {\n",
       "        vertical-align: middle;\n",
       "    }\n",
       "\n",
       "    .dataframe tbody tr th {\n",
       "        vertical-align: top;\n",
       "    }\n",
       "\n",
       "    .dataframe thead th {\n",
       "        text-align: right;\n",
       "    }\n",
       "</style>\n",
       "<table border=\"1\" class=\"dataframe\">\n",
       "  <thead>\n",
       "    <tr style=\"text-align: right;\">\n",
       "      <th></th>\n",
       "      <th>データ1</th>\n",
       "      <th>データ2</th>\n",
       "      <th>データ3</th>\n",
       "      <th>データ4</th>\n",
       "      <th>データ5</th>\n",
       "      <th>データ6</th>\n",
       "      <th>データ7</th>\n",
       "      <th>データ8</th>\n",
       "      <th>データ9</th>\n",
       "    </tr>\n",
       "  </thead>\n",
       "  <tbody>\n",
       "    <tr>\n",
       "      <th>mean</th>\n",
       "      <td>-0.021469</td>\n",
       "      <td>0.084489</td>\n",
       "      <td>5.004451</td>\n",
       "      <td>0.499477</td>\n",
       "      <td>5.506649</td>\n",
       "      <td>1.100560</td>\n",
       "      <td>-1.098543</td>\n",
       "      <td>-1.460298</td>\n",
       "      <td>-0.027195</td>\n",
       "    </tr>\n",
       "    <tr>\n",
       "      <th>median</th>\n",
       "      <td>-0.027096</td>\n",
       "      <td>0.095378</td>\n",
       "      <td>5.009127</td>\n",
       "      <td>0.498284</td>\n",
       "      <td>5.512750</td>\n",
       "      <td>1.054240</td>\n",
       "      <td>-1.051153</td>\n",
       "      <td>-3.798550</td>\n",
       "      <td>0.004333</td>\n",
       "    </tr>\n",
       "    <tr>\n",
       "      <th>std</th>\n",
       "      <td>1.004425</td>\n",
       "      <td>4.988594</td>\n",
       "      <td>1.001052</td>\n",
       "      <td>0.288114</td>\n",
       "      <td>1.444519</td>\n",
       "      <td>0.337021</td>\n",
       "      <td>0.341609</td>\n",
       "      <td>9.518702</td>\n",
       "      <td>3.991363</td>\n",
       "    </tr>\n",
       "    <tr>\n",
       "      <th>skew</th>\n",
       "      <td>-0.008608</td>\n",
       "      <td>-0.018302</td>\n",
       "      <td>-0.009998</td>\n",
       "      <td>0.008025</td>\n",
       "      <td>-0.007808</td>\n",
       "      <td>0.940486</td>\n",
       "      <td>-0.924398</td>\n",
       "      <td>0.241046</td>\n",
       "      <td>-0.215270</td>\n",
       "    </tr>\n",
       "    <tr>\n",
       "      <th>kurtosis</th>\n",
       "      <td>0.012315</td>\n",
       "      <td>-0.063282</td>\n",
       "      <td>0.048003</td>\n",
       "      <td>-1.197415</td>\n",
       "      <td>-1.206629</td>\n",
       "      <td>1.538792</td>\n",
       "      <td>1.560600</td>\n",
       "      <td>-1.305365</td>\n",
       "      <td>10.906351</td>\n",
       "    </tr>\n",
       "  </tbody>\n",
       "</table>\n",
       "</div>"
      ],
      "text/plain": [
       "              データ1      データ2      データ3      データ4      データ5      データ6  \\\n",
       "mean     -0.021469  0.084489  5.004451  0.499477  5.506649  1.100560   \n",
       "median   -0.027096  0.095378  5.009127  0.498284  5.512750  1.054240   \n",
       "std       1.004425  4.988594  1.001052  0.288114  1.444519  0.337021   \n",
       "skew     -0.008608 -0.018302 -0.009998  0.008025 -0.007808  0.940486   \n",
       "kurtosis  0.012315 -0.063282  0.048003 -1.197415 -1.206629  1.538792   \n",
       "\n",
       "              データ7      データ8       データ9  \n",
       "mean     -1.098543 -1.460298  -0.027195  \n",
       "median   -1.051153 -3.798550   0.004333  \n",
       "std       0.341609  9.518702   3.991363  \n",
       "skew     -0.924398  0.241046  -0.215270  \n",
       "kurtosis  1.560600 -1.305365  10.906351  "
      ]
     },
     "execution_count": 10,
     "metadata": {},
     "output_type": "execute_result"
    }
   ],
   "source": [
    "result"
   ]
  },
  {
   "cell_type": "markdown",
   "metadata": {},
   "source": [
    "### 同じフォルダのExcelファイルとして出力"
   ]
  },
  {
   "cell_type": "code",
   "execution_count": 11,
   "metadata": {},
   "outputs": [],
   "source": [
    "result.to_excel('要約統計量.xlsx')"
   ]
  },
  {
   "cell_type": "markdown",
   "metadata": {},
   "source": [
    "## matplotlibでのヒストグラム作成例"
   ]
  },
  {
   "cell_type": "code",
   "execution_count": 20,
   "metadata": {},
   "outputs": [
    {
     "data": {
      "image/png": "[encoded data removed]",
      "text/plain": [
       "<Figure size 360x360 with 1 Axes>"
      ]
     },
     "metadata": {
      "needs_background": "light"
     },
     "output_type": "display_data"
    }
   ],
   "source": [
    "fig = plt.figure(figsize=(5,5))\n",
    "ax = fig.add_subplot(111)\n",
    "\n",
    "ax.hist(d01, bins=20, color=\"steelblue\", alpha=0.6, label=\"データ2\")\n",
    "ax.hist(d02, bins=20, color=\"tomato\", alpha=0.6, label=\"データ2\")\n",
    "\n",
    "plt.legend()\n",
    "plt.show()"
   ]
  },
  {
   "cell_type": "code",
   "execution_count": 26,
   "metadata": {},
   "outputs": [
    {
     "data": {
      "image/png": "[encoded data removed]",
      "text/plain": [
       "<Figure size 720x720 with 9 Axes>"
      ]
     },
     "metadata": {
      "needs_background": "light"
     },
     "output_type": "display_data"
    }
   ],
   "source": [
    "fig = plt.figure(figsize=(10, 10))\n",
    "\n",
    "ax = fig.add_subplot(3,3,1)\n",
    "ax.hist(d01, bins=20, color=\"steelblue\", alpha=0.6)\n",
    "ax.set_title(\"データ1\")\n",
    "\n",
    "ax = fig.add_subplot(3,3,2)\n",
    "ax.hist(d02, bins=20, color=\"steelblue\", alpha=0.6)\n",
    "ax.set_title(\"データ2\")\n",
    "\n",
    "ax = fig.add_subplot(3,3,3)\n",
    "ax.hist(d03, bins=20, color=\"steelblue\", alpha=0.6)\n",
    "ax.set_title(\"データ3\")\n",
    "\n",
    "ax = fig.add_subplot(3,3,4)\n",
    "ax.hist(d04, bins=20, color=\"steelblue\", alpha=0.6)\n",
    "ax.set_title(\"データ4\")\n",
    "\n",
    "ax = fig.add_subplot(3,3,5)\n",
    "ax.hist(d05, bins=20, color=\"steelblue\", alpha=0.6)\n",
    "ax.set_title(\"データ5\")\n",
    "\n",
    "ax = fig.add_subplot(3,3,6)\n",
    "ax.hist(d06, bins=20, color=\"steelblue\", alpha=0.6)\n",
    "ax.set_title(\"データ6\")\n",
    "\n",
    "ax = fig.add_subplot(3,3,7)\n",
    "ax.hist(d07, bins=20, color=\"steelblue\", alpha=0.6)\n",
    "ax.set_title(\"データ7\")\n",
    "\n",
    "ax = fig.add_subplot(3,3,8)\n",
    "ax.hist(d08, bins=20, color=\"steelblue\", alpha=0.6)\n",
    "ax.set_title(\"データ8\")\n",
    "\n",
    "ax = fig.add_subplot(3,3,9)\n",
    "ax.hist(d09, bins=20, color=\"steelblue\", alpha=0.6)\n",
    "ax.set_title(\"データ9\")\n",
    "\n",
    "plt.show()\n"
   ]
  },
  {
   "cell_type": "code",
   "execution_count": null,
   "metadata": {},
   "outputs": [],
   "source": []
  }
 ],
 "metadata": {
  "kernelspec": {
   "display_name": "Python 3",
   "language": "python",
   "name": "python3"
  },
  "language_info": {
   "codemirror_mode": {
    "name": "ipython",
    "version": 3
   },
   "file_extension": ".py",
   "mimetype": "text/x-python",
   "name": "python",
   "nbconvert_exporter": "python",
   "pygments_lexer": "ipython3",
   "version": "3.7.0"
  }
 },
 "nbformat": 4,
 "nbformat_minor": 2
}
