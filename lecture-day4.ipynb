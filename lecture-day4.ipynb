{
 "cells": [
  {
   "cell_type": "markdown",
   "metadata": {},
   "source": [
    "# Pythonによる実践統計分析 第4回ハンズオン資料"
   ]
  },
  {
   "cell_type": "code",
   "execution_count": 1,
   "metadata": {},
   "outputs": [],
   "source": [
    "import pandas as pd\n",
    "import numpy as np\n",
    "import matplotlib.pyplot as plt\n",
    "import seaborn as sns\n",
    "import numpy.random as rd"
   ]
  },
  {
   "cell_type": "markdown",
   "metadata": {},
   "source": [
    "仮説検定はscipy.statsモジュールを利用する。"
   ]
  },
  {
   "cell_type": "code",
   "execution_count": 3,
   "metadata": {},
   "outputs": [],
   "source": [
    "from scipy import stats as st"
   ]
  },
  {
   "cell_type": "markdown",
   "metadata": {},
   "source": [
    "## 比率の検定（二項検定）\n",
    "    - 比率の検定は主に2種類の選択肢を比較しどちらが優位かを確かめるために用いられる。\n",
    "    - メジャーな使い道は「選挙速報」、「A/Bテスト」。"
   ]
  },
  {
   "cell_type": "markdown",
   "metadata": {},
   "source": [
    "### 二項分布\n",
    "    - 二項分布は、確率pで表が出る（確率1-pで裏が出る）コインをN回投げた場合に表がm回出る確率を表す。\n",
    "    - コイン（二種類の選択肢が同じ確率）の場合はp = 1/2となる。"
   ]
  },
  {
   "cell_type": "markdown",
   "metadata": {},
   "source": [
    "### 二項分布のグラフ\n",
    "    - コイン投げの回数Nとコインの表の出る確率pを変化させてグラフを描いてみましょう。"
   ]
  },
  {
   "cell_type": "code",
   "execution_count": 14,
   "metadata": {},
   "outputs": [
    {
     "data": {
      "text/plain": [
       "<matplotlib.axes._subplots.AxesSubplot at 0x1a187c7160>"
      ]
     },
     "execution_count": 14,
     "metadata": {},
     "output_type": "execute_result"
    },
    {
     "data": {
      "image/png": "[encoded data removed]",
      "text/plain": [
       "<Figure size 432x288 with 1 Axes>"
      ]
     },
     "metadata": {
      "needs_background": "light"
     },
     "output_type": "display_data"
    }
   ],
   "source": [
    "(N, p) = 10, 0.5\n",
    "x = [i for i in range(N + 1)]\n",
    "y = [st.binom.pmf(i, N, p) for i in range(N + 1)]\n",
    "sns.scatterplot(x,y)"
   ]
  },
  {
   "cell_type": "markdown",
   "metadata": {},
   "source": [
    "### 仮説検定"
   ]
  },
  {
   "cell_type": "markdown",
   "metadata": {},
   "source": [
    "#### 例1: サンプル数が少ない場合\n",
    "    - 20人に内閣支持率をヒアリングしたところ、「支持する」が12名、「支持しない」が8名となり、調査での支持率は60%となった。\n",
    "    - この数字でどの程度支持率が60%であると言えるか？"
   ]
  },
  {
   "cell_type": "code",
   "execution_count": 16,
   "metadata": {},
   "outputs": [
    {
     "name": "stdout",
     "output_type": "stream",
     "text": [
      "p値 = 0.503\n"
     ]
    }
   ],
   "source": [
    "p = stats.binom_test(12, 20, 0.5)\n",
    "print(\"p値 = {:.3f}\".format(p))"
   ]
  },
  {
   "cell_type": "markdown",
   "metadata": {},
   "source": [
    "#### 例2: サンプル数が多い場合\n",
    "    - 1,000人に内閣支持率をヒアリングしたところ、「支持する」が600名、「支持しない」が400名となり、調査での支持率は60%となった。\n",
    "    - この数字でどの程度支持率が60%であると言えるか？"
   ]
  },
  {
   "cell_type": "code",
   "execution_count": 19,
   "metadata": {},
   "outputs": [
    {
     "name": "stdout",
     "output_type": "stream",
     "text": [
      "p値 = 0.000 3桁表示\n",
      "p値 = 0.0000000003 10桁表示\n"
     ]
    }
   ],
   "source": [
    "p = stats.binom_test(600, 1000, 0.5)\n",
    "print(\"p値 = {:.3f} 3桁表示\".format(p))\n",
    "print(\"p値 = {:.10f} 10桁表示\".format(p))"
   ]
  },
  {
   "cell_type": "markdown",
   "metadata": {},
   "source": [
    "#### 例3: サンプル数が少ないが極端な例が出た場合\n",
    "    - 20人に内閣支持率をヒアリングしたところ、「支持する」が19名、「支持しない」が1名となり、調査での支持率は95%となった。\n",
    "    - この数字でどの程度支持率が95%であると言えるか？"
   ]
  },
  {
   "cell_type": "code",
   "execution_count": 21,
   "metadata": {},
   "outputs": [
    {
     "name": "stdout",
     "output_type": "stream",
     "text": [
      "p値 = 0.000 3桁表示\n",
      "p値 = 0.0000400543 10桁表示\n"
     ]
    }
   ],
   "source": [
    "p = stats.binom_test(19, 20, 0.5)\n",
    "print(\"p値 = {:.3f} 3桁表示\".format(p))\n",
    "print(\"p値 = {:.10f} 10桁表示\".format(p))"
   ]
  },
  {
   "cell_type": "markdown",
   "metadata": {},
   "source": [
    "## 平均値の差の検定（対応なしのt検定）\n",
    "    - 比較対象となる2種類の群の平均値の差が優位かどうかを確かめる。\n",
    "    - 薬の投薬効果判定など、何かを行った際の効果を判定するために用いられる。\n",
    "    - 2つの群が別々の対象で行った場合を「対応なし」という。"
   ]
  },
  {
   "cell_type": "code",
   "execution_count": 93,
   "metadata": {},
   "outputs": [],
   "source": [
    "d1 = rd.normal(1.0, 2.0, 100)\n",
    "d2 = rd.normal(3.0, 2.0, 100)"
   ]
  },
  {
   "cell_type": "code",
   "execution_count": 94,
   "metadata": {},
   "outputs": [
    {
     "data": {
      "text/html": [
       "<div>\n",
       "<style scoped>\n",
       "    .dataframe tbody tr th:only-of-type {\n",
       "        vertical-align: middle;\n",
       "    }\n",
       "\n",
       "    .dataframe tbody tr th {\n",
       "        vertical-align: top;\n",
       "    }\n",
       "\n",
       "    .dataframe thead th {\n",
       "        text-align: right;\n",
       "    }\n",
       "</style>\n",
       "<table border=\"1\" class=\"dataframe\">\n",
       "  <thead>\n",
       "    <tr style=\"text-align: right;\">\n",
       "      <th></th>\n",
       "      <th>A</th>\n",
       "      <th>B</th>\n",
       "    </tr>\n",
       "  </thead>\n",
       "  <tbody>\n",
       "    <tr>\n",
       "      <th>0</th>\n",
       "      <td>2.512261</td>\n",
       "      <td>5.512601</td>\n",
       "    </tr>\n",
       "    <tr>\n",
       "      <th>1</th>\n",
       "      <td>3.011218</td>\n",
       "      <td>4.173423</td>\n",
       "    </tr>\n",
       "    <tr>\n",
       "      <th>2</th>\n",
       "      <td>-2.238287</td>\n",
       "      <td>0.851277</td>\n",
       "    </tr>\n",
       "    <tr>\n",
       "      <th>3</th>\n",
       "      <td>2.430400</td>\n",
       "      <td>5.447276</td>\n",
       "    </tr>\n",
       "    <tr>\n",
       "      <th>4</th>\n",
       "      <td>-3.800918</td>\n",
       "      <td>5.753672</td>\n",
       "    </tr>\n",
       "  </tbody>\n",
       "</table>\n",
       "</div>"
      ],
      "text/plain": [
       "          A         B\n",
       "0  2.512261  5.512601\n",
       "1  3.011218  4.173423\n",
       "2 -2.238287  0.851277\n",
       "3  2.430400  5.447276\n",
       "4 -3.800918  5.753672"
      ]
     },
     "execution_count": 94,
     "metadata": {},
     "output_type": "execute_result"
    }
   ],
   "source": [
    "d = pd.concat([pd.DataFrame(d1, columns=[\"A\"]),\n",
    "           pd.DataFrame(d2, columns=[\"B\"])],\n",
    "          axis=1)\n",
    "d.head()"
   ]
  },
  {
   "cell_type": "code",
   "execution_count": 95,
   "metadata": {},
   "outputs": [
    {
     "data": {
      "text/plain": [
       "<matplotlib.axes._subplots.AxesSubplot at 0x1a1993b5c0>"
      ]
     },
     "execution_count": 95,
     "metadata": {},
     "output_type": "execute_result"
    },
    {
     "data": {
      "image/png": "[encoded data removed]",
      "text/plain": [
       "<Figure size 432x288 with 1 Axes>"
      ]
     },
     "metadata": {
      "needs_background": "light"
     },
     "output_type": "display_data"
    }
   ],
   "source": [
    "sns.boxplot(x = \"team\", y = \"score\", data=pd.melt(d, var_name=\"team\", value_name=\"score\"))"
   ]
  },
  {
   "cell_type": "code",
   "execution_count": 96,
   "metadata": {},
   "outputs": [
    {
     "name": "stdout",
     "output_type": "stream",
     "text": [
      "平均値1 = 0.702\n",
      "平均値2 = 2.711\n",
      "平均値の差 = -2.009\n",
      "p値 = 0.000\n"
     ]
    }
   ],
   "source": [
    "m1 = d.A.mean()\n",
    "m2 = d.B.mean()\n",
    "t, p = stats.ttest_ind(d.A, d.B)\n",
    "\n",
    "print(\"平均値1 = {:.3f}\".format(m1))\n",
    "print(\"平均値2 = {:.3f}\".format(m2))\n",
    "print(\"平均値の差 = {:.3f}\".format(m1 - m2))\n",
    "print(\"p値 = {:.3f}\".format(p))"
   ]
  },
  {
   "cell_type": "markdown",
   "metadata": {},
   "source": [
    "## 独立性の検定\n",
    "    - 2つの群が独立かどうかを検定する。\n",
    "    - 相関係数の検定に用いる。"
   ]
  },
  {
   "cell_type": "markdown",
   "metadata": {},
   "source": [
    "### 例1: 独立な乱数データ"
   ]
  },
  {
   "cell_type": "code",
   "execution_count": 97,
   "metadata": {},
   "outputs": [],
   "source": [
    "d1 = rd.normal(1.0, 2.0, 100)\n",
    "d2 = rd.normal(3.0, 2.0, 100)"
   ]
  },
  {
   "cell_type": "code",
   "execution_count": 98,
   "metadata": {},
   "outputs": [
    {
     "data": {
      "text/plain": [
       "<matplotlib.axes._subplots.AxesSubplot at 0x1a199f6470>"
      ]
     },
     "execution_count": 98,
     "metadata": {},
     "output_type": "execute_result"
    },
    {
     "data": {
      "image/png": "[encoded data removed]",
      "text/plain": [
       "<Figure size 432x288 with 1 Axes>"
      ]
     },
     "metadata": {
      "needs_background": "light"
     },
     "output_type": "display_data"
    }
   ],
   "source": [
    "sns.scatterplot(d1, d2)"
   ]
  },
  {
   "cell_type": "code",
   "execution_count": 99,
   "metadata": {},
   "outputs": [
    {
     "name": "stdout",
     "output_type": "stream",
     "text": [
      "相関係数 = -0.029\n",
      "p値 = 0.778\n"
     ]
    }
   ],
   "source": [
    "r, p = stats.pearsonr(d1, d2)\n",
    "print(\"相関係数 = {:.3f}\".format(r))\n",
    "print(\"p値 = {:.3f}\".format(p))"
   ]
  },
  {
   "cell_type": "markdown",
   "metadata": {},
   "source": [
    "### 例2: 相関のある乱数データ"
   ]
  },
  {
   "cell_type": "code",
   "execution_count": 115,
   "metadata": {},
   "outputs": [],
   "source": [
    "m = np.array([1.0, 2.0])\n",
    "s = np.array([2.0, 2.0])\n",
    "r = np.array([[1.0, 0.7],\n",
    "     [0.7, 1.0]])\n",
    "\n",
    "d = pd.DataFrame(rd.multivariate_normal(m, s * r * s, 1000), columns=[\"A\", \"B\"])\n",
    "d1 = d.A\n",
    "d2 = d.B"
   ]
  },
  {
   "cell_type": "code",
   "execution_count": 117,
   "metadata": {},
   "outputs": [
    {
     "data": {
      "text/plain": [
       "<matplotlib.axes._subplots.AxesSubplot at 0x1a19aab3c8>"
      ]
     },
     "execution_count": 117,
     "metadata": {},
     "output_type": "execute_result"
    },
    {
     "data": {
      "image/png": "[encoded data removed]",
      "text/plain": [
       "<Figure size 432x288 with 1 Axes>"
      ]
     },
     "metadata": {
      "needs_background": "light"
     },
     "output_type": "display_data"
    }
   ],
   "source": [
    "sns.scatterplot(d1, d2)"
   ]
  },
  {
   "cell_type": "code",
   "execution_count": 116,
   "metadata": {},
   "outputs": [
    {
     "name": "stdout",
     "output_type": "stream",
     "text": [
      "相関係数 = 0.680\n",
      "p値 = 0.000\n"
     ]
    }
   ],
   "source": [
    "r, p = stats.pearsonr(d1, d2)\n",
    "print(\"相関係数 = {:.3f}\".format(r))\n",
    "print(\"p値 = {:.3f}\".format(p))"
   ]
  }
 ],
 "metadata": {
  "kernelspec": {
   "display_name": "Python 3",
   "language": "python",
   "name": "python3"
  },
  "language_info": {
   "codemirror_mode": {
    "name": "ipython",
    "version": 3
   },
   "file_extension": ".py",
   "mimetype": "text/x-python",
   "name": "python",
   "nbconvert_exporter": "python",
   "pygments_lexer": "ipython3",
   "version": "3.7.0"
  }
 },
 "nbformat": 4,
 "nbformat_minor": 2
}
